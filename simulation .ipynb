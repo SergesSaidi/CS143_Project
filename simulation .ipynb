{
 "cells": [
  {
   "cell_type": "code",
   "execution_count": 21,
   "metadata": {},
   "outputs": [],
   "source": [
    "import seaborn as sns\n",
    "import matplotlib.pyplot as plt\n",
    "import numpy as np\n",
    "import random\n",
    "from random import randrange\n",
    "import string\n",
    "import sys"
   ]
  },
  {
   "cell_type": "code",
   "execution_count": 88,
   "metadata": {},
   "outputs": [
    {
     "name": "stdout",
     "output_type": "stream",
     "text": [
      "{'time': 1, 'transactions': [{'hjrggqfiei': 'vpvffyluraczlfl', 'dwyyg': 'c', 'vqtceztsoycczmj': ''}, {'lhvinrrkrof': 'zwrsuiivj', 'ozzxyxvbciqvgaor': 'sxuc', 'jcbw': 'pwlnjujnhgrtwuju', 'dpfaqtofkaqvn': 'lvxjoiizmoczwvz', 'knxdamvuolpn': 'rsigkppqqs', 'xavjy': 'il'}, {'rdjs': 'f'}, {'jfzkeajfxfh': 'dqciistvfsuflt', 'vtuxuzmyofwzredakk': 'gnnhuggnmm'}, {'sarppntlvmbsxfkjq': 'rokjsgdg', 'j': 'frbadfgmwucxrhkzz', 'elibqfetitngvwvcdnv': 'lqlprxt', 'xpvjinflcniturdixf': 'ndpoeljtgsui'}, {'': 'swykxhgqarlclxkfdfq'}, {'nvjc': 'stfvtazaalj', 'escg': 'wkthqmiywflpclruii', 'yrtweuckjwxmdguzag': 'htpg', 'hpagn': 'y'}, {'': 'rfbjvlrffnz', 'lgaht': 'wdzbpzxdawgzcro', 'qslzivcx': 'vkctvtyepvqul', 'pyhlsanbpasznlmlxx': 'f', 'cftptrtepwgjrsydxa': 'glhrpzrbte'}, {'zk': 'z'}, {'xevgwcxkj': 'iphh', 'ipigavhrlfczprs': 'tc', 'pmrodvc': 'gbufpjz', 'rcoltiqcxrsms': 'mev', 'i': 'aoevaqdanmhook'}, {'yyobo': 'zpdfmz', 'ytpugpkxobdbmmcfdjq': 'jjccdpxuwdrgpsyyqd', 'lkrfzhatccqubae': 'fmcdphy'}, {'mbfpdfweb': 'dfiykfhbede', '': 'vamtvdvfpenxnftjou', 'qamowylkxfotarzsq': 'mxyvtox'}]}\n",
      "[]\n",
      "280\n",
      "72\n"
     ]
    }
   ],
   "source": [
    "# Create a transaction \n",
    "\n",
    "max_stringLength = 20 # max number of strings per word in a transaction\n",
    "max_txt_length = 10 # max number of lines of word in a transaction\n",
    "max_number_of_txns = 50 # max number of transation in a block\n",
    "\n",
    "# generate random string\n",
    "def randomString(max_stringLength):\n",
    "    \"\"\"Generate a random string of fixed length \"\"\"\n",
    "    letters = string.ascii_lowercase\n",
    "    return ''.join(random.choice(letters) for i in range(max_stringLength))\n",
    "\n",
    "def transaction(max_txt_length):\n",
    "    \"\"\"The transaction is a dict of key: value pairs. They are both strings in our case \"\"\"\n",
    "    txn = {randomString(randrange(max_stringLength)) : randomString(randrange(max_stringLength)) for i in range(randrange(1, max_txt_length))}\n",
    "    return txn\n",
    "\n",
    "def block(max_number_of_txns, exp_time):\n",
    "    \"\"\"A block is a list of transaction with the last value being the time it was created \"\"\"\n",
    "    blk = {'transactions':[transaction(randrange(2, max_txt_length)) for i in range(randrange(1, max_number_of_txns))], 'time':exp_time}\n",
    "    return blk\n",
    "\n",
    "def void_exp_blobk(ledger, exp_time):\n",
    "    \"\"\" The routine scans the ledger and delete expired transactions \"\"\"\n",
    "    return [block for block in ledger if block['time'] > exp_time]\n",
    "    \n",
    "\n",
    "\n",
    "def get_size (ledger):\n",
    "    return sys.getsizeof(ledger)\n",
    "\n",
    "\n",
    "# current_txn = transaction(max_txt_length)\n",
    "# print current_txn\n",
    "\n",
    "\n",
    "current_block = block(max_number_of_txns, 1)\n",
    "\n",
    "ledger = void_exp_blobk([current_block], 1)\n",
    "\n",
    "print current_block\n",
    "print ledger\n",
    "# print (current_txn)\n",
    "# print (current_block)\n",
    "\n",
    "print (get_size(current_block))\n",
    "print (get_size([]))\n"
   ]
  },
  {
   "cell_type": "markdown",
   "metadata": {},
   "source": [
    "Make a growing ledger and keep ploting it"
   ]
  },
  {
   "cell_type": "code",
   "execution_count": null,
   "metadata": {},
   "outputs": [],
   "source": [
    "ledger = []\n",
    "\n",
    "# grow the ledger, 10 blocks per second growing at 5% evey next second\n",
    "curr_block_number = 10\n",
    "expiration_period\n",
    "growth = 0.05\n",
    "\n",
    "for seconds in range(20):\n",
    "    "
   ]
  }
 ],
 "metadata": {
  "kernelspec": {
   "display_name": "Python 2",
   "language": "python",
   "name": "python2"
  },
  "language_info": {
   "codemirror_mode": {
    "name": "ipython",
    "version": 2
   },
   "file_extension": ".py",
   "mimetype": "text/x-python",
   "name": "python",
   "nbconvert_exporter": "python",
   "pygments_lexer": "ipython2",
   "version": "2.7.17"
  }
 },
 "nbformat": 4,
 "nbformat_minor": 2
}
