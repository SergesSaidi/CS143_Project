{
 "cells": [
  {
   "cell_type": "code",
   "execution_count": 2,
   "metadata": {},
   "outputs": [],
   "source": [
    "%matplotlib inline\n",
    "import matplotlib\n",
    "import matplotlib.pyplot as plt\n",
    "from matplotlib.animation import FuncAnimation\n",
    "import numpy as np\n",
    "import random\n",
    "from random import randrange\n",
    "import string\n",
    "import sys\n",
    "import time\n",
    "import math"
   ]
  },
  {
   "cell_type": "code",
   "execution_count": 3,
   "metadata": {},
   "outputs": [],
   "source": [
    "# Create a transaction \n",
    "\n",
    "max_stringLength = 20 # max number of strings per word in a transaction\n",
    "max_txt_length = 10 # max number of lines of word in a transaction\n",
    "max_number_of_txns = 50 # max number of transation in a block\n",
    "\n",
    "# generate random string\n",
    "def randomString(max_stringLength):\n",
    "    \"\"\"Generate a random string of fixed length \"\"\"\n",
    "    letters = string.ascii_lowercase\n",
    "    return ''.join(random.choice(letters) for i in range(max_stringLength))\n",
    "\n",
    "def transaction(max_txt_length):\n",
    "    \"\"\"The transaction is a dict of key: value pairs. They are both strings in our case \"\"\"\n",
    "    txn = {randomString(randrange(max_stringLength)) : randomString(randrange(max_stringLength)) for i in range(randrange(1, max_txt_length))}\n",
    "    return txn\n",
    "\n",
    "def block(max_number_of_txns, exp_time):\n",
    "    \"\"\"A block is a list of transaction with the last value being the time it was created \"\"\"\n",
    "    blk = {'transactions':[transaction(randrange(2, max_txt_length)) for i in range(randrange(1, max_number_of_txns))], 'time':exp_time}\n",
    "    return blk\n",
    "\n",
    "def void_exp_blobk(ledger, exp_time):\n",
    "    \"\"\" The routine scans the ledger and delete expired transactions \"\"\"\n",
    "    return [block for block in ledger if block['time'] > exp_time]\n",
    "    \n",
    "\n",
    "\n",
    "def get_size (ledger):\n",
    "    return sys.getsizeof(ledger)\n",
    "\n",
    "\n",
    "# for ploting\n",
    "plt.style.use('fivethirtyeight')\n",
    "\n",
    "\n",
    "\n",
    "\n",
    "\n",
    "# current_txn = transaction(max_txt_length)\n",
    "# print current_txn\n",
    "\n",
    "\n",
    "# current_block = block(max_number_of_txns, 1)\n",
    "\n",
    "# ledger = void_exp_blobk([current_block], 1)\n",
    "\n",
    "# print current_block\n",
    "# print ledger\n",
    "# print (current_txn)\n",
    "# print (current_block)\n",
    "\n",
    "# print (get_size(current_block))\n",
    "# print (get_size([]))\n"
   ]
  },
  {
   "cell_type": "markdown",
   "metadata": {},
   "source": [
    "Make a growing ledger and keep ploting it"
   ]
  },
  {
   "cell_type": "code",
   "execution_count": 5,
   "metadata": {},
   "outputs": [
    {
     "data": {
      "text/plain": [
       "<Figure size 432x288 with 0 Axes>"
      ]
     },
     "metadata": {},
     "output_type": "display_data"
    }
   ],
   "source": [
    "ledger1 = [] # ledger growing without the delete feature\n",
    "ledger2 = [] # ledger growing with the delete feature\n",
    "size_ledger1 = []\n",
    "size_ledger2 = []\n",
    "\n",
    "\n",
    "# grow the ledger, 10 blocks per second growing at 5% evey next second\n",
    "curr_block_number = 10\n",
    "expiration_period = 5\n",
    "growth = 0.05\n",
    "time_horizon = 20\n",
    "\n",
    "\n",
    "def animate(seconds):\n",
    "    \n",
    "# for seconds in range(time_horizon):\n",
    "\n",
    "    #  add blocks to the ledger   \n",
    "    curr_block_number *= (1 + growth)\n",
    "    new_blocks = [block(max_number_of_txns, seconds + 1) for i in range(int(math.floor(curr_block_number)))]\n",
    "    ledger1.extend(new_blocks)\n",
    "    ledger2.extend(new_blocks)\n",
    "    \n",
    "    # check expired blocks in ledger2\n",
    "    if seconds > expiration_period:\n",
    "        ledger2 = void_exp_blobk(ledger2, seconds - expiration_period)\n",
    "    \n",
    "    \n",
    "    # update size\n",
    "    size_ledger1.append(get_size (ledger1))\n",
    "    size_ledger2.append(get_size (ledger2))\n",
    "    \n",
    "    \n",
    "    \n",
    "    #ploting\n",
    "    plt.cla()\n",
    "    plt.plot(size_ledger1, label='Uncleared Ledger')\n",
    "    plt.plot(size_ledger2, label='Cleared ledger')\n",
    "    plt.legend(loc='upper left')\n",
    "    plt.tight_layout()\n",
    "    \n",
    "    \n",
    "    \n",
    "    \n",
    "    \n",
    "#     print curr_block_number\n",
    "#     print size_ledger1[-1]\n",
    "#     print size_ledger2[-1]\n",
    "#     print float(size_ledger1[-1])/float(size_ledger2[-1])\n",
    "    \n",
    "#     print ledger1\n",
    "#     print ledger2\n",
    "    \n",
    "    #  Compute the ledger size   \n",
    "    time.sleep(.5) \n",
    "    \n",
    "    \n",
    "ani = FuncAnimation(plt.gcf(), animate, interval=1000)\n",
    "    \n",
    "# plt.tight_layout()\n",
    "plt.show()\n",
    "    \n",
    "    "
   ]
  },
  {
   "cell_type": "code",
   "execution_count": 6,
   "metadata": {},
   "outputs": [
    {
     "data": {
      "image/png": "[encoded data removed]",
      "text/plain": [
       "<Figure size 432x288 with 1 Axes>"
      ]
     },
     "metadata": {},
     "output_type": "display_data"
    }
   ],
   "source": []
  },
  {
   "cell_type": "code",
   "execution_count": null,
   "metadata": {},
   "outputs": [],
   "source": []
  }
 ],
 "metadata": {
  "kernelspec": {
   "display_name": "Python 2",
   "language": "python",
   "name": "python2"
  },
  "language_info": {
   "codemirror_mode": {
    "name": "ipython",
    "version": 2
   },
   "file_extension": ".py",
   "mimetype": "text/x-python",
   "name": "python",
   "nbconvert_exporter": "python",
   "pygments_lexer": "ipython2",
   "version": "2.7.17"
  }
 },
 "nbformat": 4,
 "nbformat_minor": 2
}
